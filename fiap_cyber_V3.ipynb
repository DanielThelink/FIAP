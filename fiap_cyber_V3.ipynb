{
  "nbformat": 4,
  "nbformat_minor": 0,
  "metadata": {
    "colab": {
      "name": "fiap_cyber_V2.ipynb",
      "provenance": [],
      "collapsed_sections": [],
      "authorship_tag": "ABX9TyPqUeI+qjONB1C1FP6d/oQN",
      "include_colab_link": true
    },
    "kernelspec": {
      "name": "python3",
      "display_name": "Python 3"
    },
    "language_info": {
      "name": "python"
    }
  },
  "cells": [
    {
      "cell_type": "markdown",
      "metadata": {
        "id": "view-in-github",
        "colab_type": "text"
      },
      "source": [
        "<a href=\"https://colab.research.google.com/github/DanielThelink/FIAP_Computational_Python/blob/master/fiap_cyber_V3.ipynb\" target=\"_parent\"><img src=\"https://colab.research.google.com/assets/colab-badge.svg\" alt=\"Open In Colab\"/></a>"
      ]
    },
    {
      "cell_type": "code",
      "execution_count": 1,
      "metadata": {
        "colab": {
          "base_uri": "https://localhost:8080/"
        },
        "id": "Uk-_mvwAKZEN",
        "outputId": "cdbb62a4-d226-41e6-d6ce-c021b4b199a8"
      },
      "outputs": [
        {
          "output_type": "stream",
          "name": "stdout",
          "text": [
            "Collecting fuzzywuzzy[speedup]\n",
            "  Downloading fuzzywuzzy-0.18.0-py2.py3-none-any.whl (18 kB)\n",
            "Collecting python-levenshtein>=0.12\n",
            "  Downloading python-Levenshtein-0.12.2.tar.gz (50 kB)\n",
            "\u001b[K     |████████████████████████████████| 50 kB 3.2 MB/s \n",
            "\u001b[?25hRequirement already satisfied: setuptools in /usr/local/lib/python3.7/dist-packages (from python-levenshtein>=0.12->fuzzywuzzy[speedup]) (57.4.0)\n",
            "Building wheels for collected packages: python-levenshtein\n",
            "  Building wheel for python-levenshtein (setup.py) ... \u001b[?25l\u001b[?25hdone\n",
            "  Created wheel for python-levenshtein: filename=python_Levenshtein-0.12.2-cp37-cp37m-linux_x86_64.whl size=149871 sha256=ceb6c0283a9869e57174ca1c7f972abd770348b283b4c988fda330ba336f80eb\n",
            "  Stored in directory: /root/.cache/pip/wheels/05/5f/ca/7c4367734892581bb5ff896f15027a932c551080b2abd3e00d\n",
            "Successfully built python-levenshtein\n",
            "Installing collected packages: python-levenshtein, fuzzywuzzy\n",
            "Successfully installed fuzzywuzzy-0.18.0 python-levenshtein-0.12.2\n"
          ]
        }
      ],
      "source": [
        "!pip install fuzzywuzzy[speedup]"
      ]
    },
    {
      "cell_type": "code",
      "source": [
        "from fuzzywuzzy import process"
      ],
      "metadata": {
        "id": "hxwW0qtgLKPc"
      },
      "execution_count": 39,
      "outputs": []
    },
    {
      "cell_type": "code",
      "source": [
        "lista =[\"gordo\", \"bola\", \"bambu\", \"mula\", \"retardado\", \"retardada\", \"boçal\", \"idiota\", \"magrelo\", \"magrela\", \"graveto\", \"burro\", \"burra\", \"gorda\", \"imbecil\", \"cadela\", \"bicha\", \"corna\", \"corno\", \"egua\", \"seu preto\", \"seu macaco\", \"m@c@co\",]\n",
        "\n",
        "palavra = input(\"digite usa palavra aqui =\")\n",
        "\n",
        "process.extract(palavra, lista)"
      ],
      "metadata": {
        "colab": {
          "base_uri": "https://localhost:8080/"
        },
        "id": "4g2SLgJRLUfg",
        "outputId": "eef5d9d5-7749-4deb-f9a1-870adea57b7e"
      },
      "execution_count": 3,
      "outputs": [
        {
          "name": "stdout",
          "output_type": "stream",
          "text": [
            "digite usa palavra aqui =gorda\n"
          ]
        },
        {
          "output_type": "execute_result",
          "data": {
            "text/plain": [
              "[('gorda', 100),\n",
              " ('gordo', 80),\n",
              " ('corna', 60),\n",
              " ('retardado', 54),\n",
              " ('retardada', 54)]"
            ]
          },
          "metadata": {},
          "execution_count": 3
        }
      ]
    },
    {
      "cell_type": "code",
      "source": [
        "def getMatch (field):\n",
        "\n",
        "  match_lista =[\"gordo\", \"bola\", \"bambu\", \"mula\", \"retardado\", \"retardada\", \"boçal\", \"idiota\", \"magrelo\", \"magrela\", \"graveto\", \"burro\", \"burra\", \"gorda\", \"imbecil\", \"cadela\", \"bicha\", \"corna\", \"corno\", \"egua\", \"seu preto\", \"seu macaco\", \"m@c@co\",]\n",
        "  procurar_lista = process.extract(field, match_lista)\n",
        "\n",
        "  result = []\n",
        "\n",
        "  for text in procurar_lista:\n",
        "    if text[1] >= 55:\n",
        "      result.append(text)\n",
        "\n",
        "    if len(result) == 0:\n",
        "      return \"permitido\"\n",
        "\n",
        "    return \"Proibido\"\n",
        "getMatch(input())      "
      ],
      "metadata": {
        "id": "WQCDqBYYM6o8",
        "colab": {
          "base_uri": "https://localhost:8080/",
          "height": 53
        },
        "outputId": "0a4c18e6-5fdb-413c-9c30-9788bc11f9bc"
      },
      "execution_count": 66,
      "outputs": [
        {
          "name": "stdout",
          "output_type": "stream",
          "text": [
            "Eu sempre quis ser magrelo assim\n"
          ]
        },
        {
          "output_type": "execute_result",
          "data": {
            "text/plain": [
              "'Proibido'"
            ],
            "application/vnd.google.colaboratory.intrinsic+json": {
              "type": "string"
            }
          },
          "metadata": {},
          "execution_count": 66
        }
      ]
    }
  ]
}